{
 "cells": [
  {
   "cell_type": "markdown",
   "id": "63ee6153",
   "metadata": {},
   "source": [
    "# Data Mining Assignment by Aditya Gaitonde"
   ]
  },
  {
   "cell_type": "code",
   "execution_count": 2,
   "id": "90e29dbd",
   "metadata": {},
   "outputs": [],
   "source": [
    "import pandas as pd\n",
    "import numpy as np\n",
    "from sklearn.preprocessing import StandardScaler\n",
    "from numpy.linalg import norm \n"
   ]
  },
  {
   "cell_type": "code",
   "execution_count": 243,
   "id": "96979f59",
   "metadata": {},
   "outputs": [],
   "source": [
    "df=pd.read_csv(\"C:/Users/Aditya Gaitonde/Downloads/magic04.data\",header=None)\n",
    "df.columns = ['flength','fwidth','fsize','fconc','fconc1','fasym','fm3long','fm3trans','falpha','fdist','class']"
   ]
  },
  {
   "cell_type": "markdown",
   "id": "9d9cbc9c",
   "metadata": {},
   "source": [
    "Answer a."
   ]
  },
  {
   "cell_type": "code",
   "execution_count": 244,
   "id": "50ab2adb",
   "metadata": {},
   "outputs": [],
   "source": [
    "cl=df['class']"
   ]
  },
  {
   "cell_type": "code",
   "execution_count": 245,
   "id": "ec34f0f2",
   "metadata": {},
   "outputs": [],
   "source": [
    "df=df.drop(columns=['class'])"
   ]
  },
  {
   "cell_type": "code",
   "execution_count": 246,
   "id": "af6422e3",
   "metadata": {},
   "outputs": [
    {
     "data": {
      "text/html": [
       "<div>\n",
       "<style scoped>\n",
       "    .dataframe tbody tr th:only-of-type {\n",
       "        vertical-align: middle;\n",
       "    }\n",
       "\n",
       "    .dataframe tbody tr th {\n",
       "        vertical-align: top;\n",
       "    }\n",
       "\n",
       "    .dataframe thead th {\n",
       "        text-align: right;\n",
       "    }\n",
       "</style>\n",
       "<table border=\"1\" class=\"dataframe\">\n",
       "  <thead>\n",
       "    <tr style=\"text-align: right;\">\n",
       "      <th></th>\n",
       "      <th>flength</th>\n",
       "      <th>fwidth</th>\n",
       "      <th>fsize</th>\n",
       "      <th>fconc</th>\n",
       "      <th>fconc1</th>\n",
       "      <th>fasym</th>\n",
       "      <th>fm3long</th>\n",
       "      <th>fm3trans</th>\n",
       "      <th>falpha</th>\n",
       "      <th>fdist</th>\n",
       "    </tr>\n",
       "  </thead>\n",
       "  <tbody>\n",
       "    <tr>\n",
       "      <th>0</th>\n",
       "      <td>28.7967</td>\n",
       "      <td>16.0021</td>\n",
       "      <td>2.6449</td>\n",
       "      <td>0.3918</td>\n",
       "      <td>0.1982</td>\n",
       "      <td>27.7004</td>\n",
       "      <td>22.0110</td>\n",
       "      <td>-8.2027</td>\n",
       "      <td>40.0920</td>\n",
       "      <td>81.8828</td>\n",
       "    </tr>\n",
       "    <tr>\n",
       "      <th>1</th>\n",
       "      <td>31.6036</td>\n",
       "      <td>11.7235</td>\n",
       "      <td>2.5185</td>\n",
       "      <td>0.5303</td>\n",
       "      <td>0.3773</td>\n",
       "      <td>26.2722</td>\n",
       "      <td>23.8238</td>\n",
       "      <td>-9.9574</td>\n",
       "      <td>6.3609</td>\n",
       "      <td>205.2610</td>\n",
       "    </tr>\n",
       "    <tr>\n",
       "      <th>2</th>\n",
       "      <td>162.0520</td>\n",
       "      <td>136.0310</td>\n",
       "      <td>4.0612</td>\n",
       "      <td>0.0374</td>\n",
       "      <td>0.0187</td>\n",
       "      <td>116.7410</td>\n",
       "      <td>-64.8580</td>\n",
       "      <td>-45.2160</td>\n",
       "      <td>76.9600</td>\n",
       "      <td>256.7880</td>\n",
       "    </tr>\n",
       "    <tr>\n",
       "      <th>3</th>\n",
       "      <td>23.8172</td>\n",
       "      <td>9.5728</td>\n",
       "      <td>2.3385</td>\n",
       "      <td>0.6147</td>\n",
       "      <td>0.3922</td>\n",
       "      <td>27.2107</td>\n",
       "      <td>-6.4633</td>\n",
       "      <td>-7.1513</td>\n",
       "      <td>10.4490</td>\n",
       "      <td>116.7370</td>\n",
       "    </tr>\n",
       "    <tr>\n",
       "      <th>4</th>\n",
       "      <td>75.1362</td>\n",
       "      <td>30.9205</td>\n",
       "      <td>3.1611</td>\n",
       "      <td>0.3168</td>\n",
       "      <td>0.1832</td>\n",
       "      <td>-5.5277</td>\n",
       "      <td>28.5525</td>\n",
       "      <td>21.8393</td>\n",
       "      <td>4.6480</td>\n",
       "      <td>356.4620</td>\n",
       "    </tr>\n",
       "    <tr>\n",
       "      <th>...</th>\n",
       "      <td>...</td>\n",
       "      <td>...</td>\n",
       "      <td>...</td>\n",
       "      <td>...</td>\n",
       "      <td>...</td>\n",
       "      <td>...</td>\n",
       "      <td>...</td>\n",
       "      <td>...</td>\n",
       "      <td>...</td>\n",
       "      <td>...</td>\n",
       "    </tr>\n",
       "    <tr>\n",
       "      <th>19015</th>\n",
       "      <td>21.3846</td>\n",
       "      <td>10.9170</td>\n",
       "      <td>2.6161</td>\n",
       "      <td>0.5857</td>\n",
       "      <td>0.3934</td>\n",
       "      <td>15.2618</td>\n",
       "      <td>11.5245</td>\n",
       "      <td>2.8766</td>\n",
       "      <td>2.4229</td>\n",
       "      <td>106.8258</td>\n",
       "    </tr>\n",
       "    <tr>\n",
       "      <th>19016</th>\n",
       "      <td>28.9452</td>\n",
       "      <td>6.7020</td>\n",
       "      <td>2.2672</td>\n",
       "      <td>0.5351</td>\n",
       "      <td>0.2784</td>\n",
       "      <td>37.0816</td>\n",
       "      <td>13.1853</td>\n",
       "      <td>-2.9632</td>\n",
       "      <td>86.7975</td>\n",
       "      <td>247.4560</td>\n",
       "    </tr>\n",
       "    <tr>\n",
       "      <th>19017</th>\n",
       "      <td>75.4455</td>\n",
       "      <td>47.5305</td>\n",
       "      <td>3.4483</td>\n",
       "      <td>0.1417</td>\n",
       "      <td>0.0549</td>\n",
       "      <td>-9.3561</td>\n",
       "      <td>41.0562</td>\n",
       "      <td>-9.4662</td>\n",
       "      <td>30.2987</td>\n",
       "      <td>256.5166</td>\n",
       "    </tr>\n",
       "    <tr>\n",
       "      <th>19018</th>\n",
       "      <td>120.5135</td>\n",
       "      <td>76.9018</td>\n",
       "      <td>3.9939</td>\n",
       "      <td>0.0944</td>\n",
       "      <td>0.0683</td>\n",
       "      <td>5.8043</td>\n",
       "      <td>-93.5224</td>\n",
       "      <td>-63.8389</td>\n",
       "      <td>84.6874</td>\n",
       "      <td>408.3166</td>\n",
       "    </tr>\n",
       "    <tr>\n",
       "      <th>19019</th>\n",
       "      <td>187.1814</td>\n",
       "      <td>53.0014</td>\n",
       "      <td>3.2093</td>\n",
       "      <td>0.2876</td>\n",
       "      <td>0.1539</td>\n",
       "      <td>-167.3125</td>\n",
       "      <td>-168.4558</td>\n",
       "      <td>31.4755</td>\n",
       "      <td>52.7310</td>\n",
       "      <td>272.3174</td>\n",
       "    </tr>\n",
       "  </tbody>\n",
       "</table>\n",
       "<p>19020 rows × 10 columns</p>\n",
       "</div>"
      ],
      "text/plain": [
       "        flength    fwidth   fsize   fconc  fconc1     fasym   fm3long  \\\n",
       "0       28.7967   16.0021  2.6449  0.3918  0.1982   27.7004   22.0110   \n",
       "1       31.6036   11.7235  2.5185  0.5303  0.3773   26.2722   23.8238   \n",
       "2      162.0520  136.0310  4.0612  0.0374  0.0187  116.7410  -64.8580   \n",
       "3       23.8172    9.5728  2.3385  0.6147  0.3922   27.2107   -6.4633   \n",
       "4       75.1362   30.9205  3.1611  0.3168  0.1832   -5.5277   28.5525   \n",
       "...         ...       ...     ...     ...     ...       ...       ...   \n",
       "19015   21.3846   10.9170  2.6161  0.5857  0.3934   15.2618   11.5245   \n",
       "19016   28.9452    6.7020  2.2672  0.5351  0.2784   37.0816   13.1853   \n",
       "19017   75.4455   47.5305  3.4483  0.1417  0.0549   -9.3561   41.0562   \n",
       "19018  120.5135   76.9018  3.9939  0.0944  0.0683    5.8043  -93.5224   \n",
       "19019  187.1814   53.0014  3.2093  0.2876  0.1539 -167.3125 -168.4558   \n",
       "\n",
       "       fm3trans   falpha     fdist  \n",
       "0       -8.2027  40.0920   81.8828  \n",
       "1       -9.9574   6.3609  205.2610  \n",
       "2      -45.2160  76.9600  256.7880  \n",
       "3       -7.1513  10.4490  116.7370  \n",
       "4       21.8393   4.6480  356.4620  \n",
       "...         ...      ...       ...  \n",
       "19015    2.8766   2.4229  106.8258  \n",
       "19016   -2.9632  86.7975  247.4560  \n",
       "19017   -9.4662  30.2987  256.5166  \n",
       "19018  -63.8389  84.6874  408.3166  \n",
       "19019   31.4755  52.7310  272.3174  \n",
       "\n",
       "[19020 rows x 10 columns]"
      ]
     },
     "execution_count": 246,
     "metadata": {},
     "output_type": "execute_result"
    }
   ],
   "source": [
    "df"
   ]
  },
  {
   "cell_type": "code",
   "execution_count": 247,
   "id": "e3654d0f",
   "metadata": {},
   "outputs": [],
   "source": [
    "df1=df.to_numpy()\n",
    "sd=df1.copy()"
   ]
  },
  {
   "cell_type": "code",
   "execution_count": 248,
   "id": "ce5c1147",
   "metadata": {},
   "outputs": [],
   "source": [
    "std=df1.std()"
   ]
  },
  {
   "cell_type": "code",
   "execution_count": null,
   "id": "01eb1e70",
   "metadata": {},
   "outputs": [],
   "source": [
    "Z Normalisation"
   ]
  },
  {
   "cell_type": "code",
   "execution_count": 250,
   "id": "8a4bfe39",
   "metadata": {},
   "outputs": [],
   "source": [
    "sd_z = (sd-np.mean(sd,axis = 0))/np.std(sd,axis =0)"
   ]
  },
  {
   "cell_type": "code",
   "execution_count": 251,
   "id": "83a02967",
   "metadata": {},
   "outputs": [
    {
     "data": {
      "text/plain": [
       "array([[-0.57722602, -0.33680419, -0.38113037, ..., -0.40584194,\n",
       "         0.47681587, -1.49786555],\n",
       "       [-0.51096889, -0.57002666, -0.64859479, ..., -0.49009359,\n",
       "        -0.81541816,  0.15312459],\n",
       "       [ 2.56827756,  6.20585836,  2.61578306, ..., -2.18302986,\n",
       "         1.88922413,  0.84263513],\n",
       "       ...,\n",
       "       [ 0.52392318,  1.38177927,  1.31887687, ..., -0.4665087 ,\n",
       "         0.10163583,  0.83900338],\n",
       "       [ 1.58775746,  2.98278123,  2.47337518, ..., -3.07720555,\n",
       "         2.18525981,  2.87032093],\n",
       "       [ 3.16145936,  1.67999288,  0.81314905, ...,  1.49930076,\n",
       "         0.96101431,  1.05044239]])"
      ]
     },
     "execution_count": 251,
     "metadata": {},
     "output_type": "execute_result"
    }
   ],
   "source": [
    "sd_z"
   ]
  },
  {
   "cell_type": "markdown",
   "id": "28db2fa8",
   "metadata": {},
   "source": [
    "Question B."
   ]
  },
  {
   "cell_type": "markdown",
   "id": "4ecbbcb9",
   "metadata": {},
   "source": [
    "Compute the sample covariance matrix (Σ) as sum of outer product of each\n",
    "centered point"
   ]
  },
  {
   "cell_type": "code",
   "execution_count": 253,
   "id": "67acb6a9",
   "metadata": {},
   "outputs": [],
   "source": [
    "def outer_sum(z):\n",
    "  i=0\n",
    "  sum=0\n",
    "  while i<=len(z)-1:\n",
    "    sum=sum+np.dot(z[i].reshape(z.shape[1],1),z[i].reshape(1,z.shape[1]))\n",
    "    i=i+1\n",
    "  return(sum/(len(z)-1))"
   ]
  },
  {
   "cell_type": "code",
   "execution_count": 255,
   "id": "58c50134",
   "metadata": {},
   "outputs": [],
   "source": [
    "covar = oute_sum(sd_z)"
   ]
  },
  {
   "cell_type": "code",
   "execution_count": 256,
   "id": "69651060",
   "metadata": {
    "scrolled": true
   },
   "outputs": [
    {
     "data": {
      "text/plain": [
       "array([[ 1.00005258,  0.77055255,  0.70249069, -0.63103226, -0.59817658,\n",
       "        -0.36857587, -0.11975342,  0.01338994, -0.00877795,  0.41848807],\n",
       "       [ 0.77055255,  1.00005258,  0.71755458, -0.60981073, -0.58117128,\n",
       "        -0.26697495, -0.17624349,  0.0397457 ,  0.06606485,  0.33683382],\n",
       "       [ 0.70249069,  0.71755458,  1.00005258, -0.85089453, -0.80887754,\n",
       "        -0.15987136,  0.0951622 ,  0.01545556, -0.18668498,  0.43706374],\n",
       "       [-0.63103226, -0.60981073, -0.85089453,  1.00005258,  0.97646319,\n",
       "         0.11227813, -0.12190575, -0.01129466,  0.23528427, -0.32834957],\n",
       "       [-0.59817658, -0.58117128, -0.80887754,  0.97646319,  1.00005258,\n",
       "         0.10016449, -0.11877515, -0.01096618,  0.22981062, -0.3046407 ],\n",
       "       [-0.36857587, -0.26697495, -0.15987136,  0.11227813,  0.10016449,\n",
       "         1.00005258,  0.27405922,  0.00255297, -0.05569155, -0.2067405 ],\n",
       "       [-0.11975342, -0.17624349,  0.0951622 , -0.12190575, -0.11877515,\n",
       "         0.27405922,  1.00005258, -0.0171976 , -0.18628439,  0.03702712],\n",
       "       [ 0.01338994,  0.0397457 ,  0.01545556, -0.01129466, -0.01096618,\n",
       "         0.00255297, -0.0171976 ,  1.00005258,  0.00465937,  0.01142721],\n",
       "       [-0.00877795,  0.06606485, -0.18668498,  0.23528427,  0.22981062,\n",
       "        -0.05569155, -0.18628439,  0.00465937,  1.00005258, -0.22056717],\n",
       "       [ 0.41848807,  0.33683382,  0.43706374, -0.32834957, -0.3046407 ,\n",
       "        -0.2067405 ,  0.03702712,  0.01142721, -0.22056717,  1.00005258]])"
      ]
     },
     "execution_count": 256,
     "metadata": {},
     "output_type": "execute_result"
    }
   ],
   "source": [
    "covar"
   ]
  },
  {
   "cell_type": "code",
   "execution_count": 257,
   "id": "a0770553",
   "metadata": {},
   "outputs": [],
   "source": [
    "covmat = np.cov(sd_z,rowvar = False)"
   ]
  },
  {
   "cell_type": "code",
   "execution_count": 258,
   "id": "1d937176",
   "metadata": {},
   "outputs": [
    {
     "data": {
      "text/plain": [
       "array([[ 1.00005258,  0.77055255,  0.70249069, -0.63103226, -0.59817658,\n",
       "        -0.36857587, -0.11975342,  0.01338994, -0.00877795,  0.41848807],\n",
       "       [ 0.77055255,  1.00005258,  0.71755458, -0.60981073, -0.58117128,\n",
       "        -0.26697495, -0.17624349,  0.0397457 ,  0.06606485,  0.33683382],\n",
       "       [ 0.70249069,  0.71755458,  1.00005258, -0.85089453, -0.80887754,\n",
       "        -0.15987136,  0.0951622 ,  0.01545556, -0.18668498,  0.43706374],\n",
       "       [-0.63103226, -0.60981073, -0.85089453,  1.00005258,  0.97646319,\n",
       "         0.11227813, -0.12190575, -0.01129466,  0.23528427, -0.32834957],\n",
       "       [-0.59817658, -0.58117128, -0.80887754,  0.97646319,  1.00005258,\n",
       "         0.10016449, -0.11877515, -0.01096618,  0.22981062, -0.3046407 ],\n",
       "       [-0.36857587, -0.26697495, -0.15987136,  0.11227813,  0.10016449,\n",
       "         1.00005258,  0.27405922,  0.00255297, -0.05569155, -0.2067405 ],\n",
       "       [-0.11975342, -0.17624349,  0.0951622 , -0.12190575, -0.11877515,\n",
       "         0.27405922,  1.00005258, -0.0171976 , -0.18628439,  0.03702712],\n",
       "       [ 0.01338994,  0.0397457 ,  0.01545556, -0.01129466, -0.01096618,\n",
       "         0.00255297, -0.0171976 ,  1.00005258,  0.00465937,  0.01142721],\n",
       "       [-0.00877795,  0.06606485, -0.18668498,  0.23528427,  0.22981062,\n",
       "        -0.05569155, -0.18628439,  0.00465937,  1.00005258, -0.22056717],\n",
       "       [ 0.41848807,  0.33683382,  0.43706374, -0.32834957, -0.3046407 ,\n",
       "        -0.2067405 ,  0.03702712,  0.01142721, -0.22056717,  1.00005258]])"
      ]
     },
     "execution_count": 258,
     "metadata": {},
     "output_type": "execute_result"
    }
   ],
   "source": [
    "covmat"
   ]
  },
  {
   "cell_type": "markdown",
   "id": "274f19bc",
   "metadata": {},
   "source": [
    "The calculated covariance matches the np.cov function result."
   ]
  },
  {
   "cell_type": "markdown",
   "id": "a1a09f57",
   "metadata": {},
   "source": [
    "Question C."
   ]
  },
  {
   "cell_type": "markdown",
   "id": "1dc6a715",
   "metadata": {},
   "source": [
    "Computing the dominant eigenvalue and eigenvector of the covariance matrix Σ\n",
    "via the power-iteration method"
   ]
  },
  {
   "cell_type": "code",
   "execution_count": 259,
   "id": "ea7fcdf2",
   "metadata": {},
   "outputs": [],
   "source": [
    "def relativeError ( xnew , xold ) :\n",
    "    return abs ( ( xnew - xold ) / xnew ) * 100"
   ]
  },
  {
   "cell_type": "code",
   "execution_count": 260,
   "id": "40df5a34",
   "metadata": {},
   "outputs": [
    {
     "data": {
      "text/html": [
       "<div>\n",
       "<style scoped>\n",
       "    .dataframe tbody tr th:only-of-type {\n",
       "        vertical-align: middle;\n",
       "    }\n",
       "\n",
       "    .dataframe tbody tr th {\n",
       "        vertical-align: top;\n",
       "    }\n",
       "\n",
       "    .dataframe thead th {\n",
       "        text-align: right;\n",
       "    }\n",
       "</style>\n",
       "<table border=\"1\" class=\"dataframe\">\n",
       "  <thead>\n",
       "    <tr style=\"text-align: right;\">\n",
       "      <th></th>\n",
       "      <th>eigenvalue</th>\n",
       "      <th>error</th>\n",
       "    </tr>\n",
       "  </thead>\n",
       "  <tbody>\n",
       "    <tr>\n",
       "      <th>0</th>\n",
       "      <td>8.917923</td>\n",
       "      <td>88.786627</td>\n",
       "    </tr>\n",
       "    <tr>\n",
       "      <th>1</th>\n",
       "      <td>2.695079</td>\n",
       "      <td>230.896501</td>\n",
       "    </tr>\n",
       "    <tr>\n",
       "      <th>2</th>\n",
       "      <td>4.109195</td>\n",
       "      <td>34.413449</td>\n",
       "    </tr>\n",
       "    <tr>\n",
       "      <th>3</th>\n",
       "      <td>4.218799</td>\n",
       "      <td>2.597993</td>\n",
       "    </tr>\n",
       "    <tr>\n",
       "      <th>4</th>\n",
       "      <td>4.223902</td>\n",
       "      <td>0.120819</td>\n",
       "    </tr>\n",
       "    <tr>\n",
       "      <th>5</th>\n",
       "      <td>4.224189</td>\n",
       "      <td>0.006794</td>\n",
       "    </tr>\n",
       "    <tr>\n",
       "      <th>6</th>\n",
       "      <td>4.224211</td>\n",
       "      <td>0.000504</td>\n",
       "    </tr>\n",
       "    <tr>\n",
       "      <th>7</th>\n",
       "      <td>4.224213</td>\n",
       "      <td>0.000049</td>\n",
       "    </tr>\n",
       "    <tr>\n",
       "      <th>8</th>\n",
       "      <td>4.224213</td>\n",
       "      <td>0.000006</td>\n",
       "    </tr>\n",
       "  </tbody>\n",
       "</table>\n",
       "</div>"
      ],
      "text/plain": [
       "    eigenvalue       error \n",
       "0      8.917923   88.786627\n",
       "1      2.695079  230.896501\n",
       "2      4.109195   34.413449\n",
       "3      4.218799    2.597993\n",
       "4      4.223902    0.120819\n",
       "5      4.224189    0.006794\n",
       "6      4.224211    0.000504\n",
       "7      4.224213    0.000049\n",
       "8      4.224213    0.000006"
      ]
     },
     "execution_count": 260,
     "metadata": {},
     "output_type": "execute_result"
    }
   ],
   "source": [
    "x_diff=0\n",
    "result = pd.DataFrame ( columns = [ ' eigenvalue ' , ' error ' ] )\n",
    "x = np.ones ( [ 10,10 ] )\n",
    "max_iterations=9\n",
    "oldEigenvalue = 1\n",
    "for i in range ( max_iterations ) :\n",
    "   x = np.dot ( covar , x )\n",
    "   eigenvalue = np.linalg.norm ( x )\n",
    "   error = relativeError ( eigenvalue , oldEigenvalue )\n",
    "   x = x / eigenvalue\n",
    "   result.loc[i]= [eigenvalue, error]\n",
    "   oldEigenvalue = eigenvalue\n",
    "   while np.linalg.norm(x_diff)>0.000001:\n",
    "        x_diff=x[len(x)-1]-x[len(x)-2]\n",
    "\n",
    "    \n",
    "result"
   ]
  },
  {
   "cell_type": "markdown",
   "id": "0241a0c8",
   "metadata": {},
   "source": [
    "Question D"
   ]
  },
  {
   "cell_type": "markdown",
   "id": "917a6595",
   "metadata": {},
   "source": [
    "Two dominant eigenvectors of Σ using linalg.eig function"
   ]
  },
  {
   "cell_type": "code",
   "execution_count": 271,
   "id": "5754fb43",
   "metadata": {},
   "outputs": [],
   "source": [
    "eigen_value,eigen_vector=np.linalg.eig(covmat)"
   ]
  },
  {
   "cell_type": "code",
   "execution_count": 278,
   "id": "32c760cf",
   "metadata": {},
   "outputs": [
    {
     "data": {
      "text/plain": [
       "array([[-4.08276775e-01,  2.25698741e-01,  1.79955894e-02,\n",
       "        -9.04660487e-02,  7.53225050e-01, -4.37462245e-01,\n",
       "        -1.19474438e-01, -1.49895160e-02,  2.53364917e-02,\n",
       "        -5.00639811e-04],\n",
       "       [-3.95057049e-01,  2.45281583e-01, -1.17981303e-02,\n",
       "         4.27867208e-01, -5.39478658e-01, -4.95341859e-01,\n",
       "        -5.78974762e-02, -1.68904043e-01,  9.46212428e-02,\n",
       "        -1.52717635e-01],\n",
       "       [-4.48921929e-01, -9.33105148e-02,  1.07611883e-01,\n",
       "        -8.15749467e-01, -3.21598696e-01, -1.07193101e-03,\n",
       "        -1.59226791e-02, -2.76416862e-02,  5.74952569e-02,\n",
       "        -7.06014805e-02],\n",
       "       [ 4.41612458e-01,  1.88375795e-01,  7.48911506e-01,\n",
       "        -1.48746906e-01, -7.19134376e-02, -3.30736734e-01,\n",
       "        -1.80669622e-01, -1.04311902e-01, -1.08617795e-01,\n",
       "         1.28919623e-01],\n",
       "       [ 4.29237789e-01,  1.95951819e-01, -6.53467431e-01,\n",
       "        -3.15173270e-01, -1.05167458e-01, -3.89073611e-01,\n",
       "        -2.05565490e-01, -1.15773238e-01, -1.16313517e-01,\n",
       "         1.39197755e-01],\n",
       "       [ 1.44687983e-01, -4.86902882e-01, -1.01361748e-04,\n",
       "        -6.97106831e-03,  1.39311777e-01, -1.13592072e-01,\n",
       "         2.27372884e-02, -7.21816382e-01,  2.13916540e-01,\n",
       "        -3.77273475e-01],\n",
       "       [-5.19836359e-03, -5.99590556e-01,  2.71596438e-03,\n",
       "         9.11194260e-02, -3.57336827e-02, -2.33844650e-01,\n",
       "        -5.98664166e-01,  4.59923140e-01,  5.35141492e-02,\n",
       "        -5.83262999e-02],\n",
       "       [-1.23515912e-02,  3.14772268e-02, -8.71296824e-06,\n",
       "        -9.22610587e-03,  1.72572649e-02,  1.43239128e-02,\n",
       "        -8.11764733e-03,  5.67924976e-02, -7.94685553e-01,\n",
       "        -6.02869888e-01],\n",
       "       [ 9.71749700e-02,  4.56703506e-01, -5.78335826e-03,\n",
       "        -3.93710146e-02,  2.65508688e-02,  3.64958044e-01,\n",
       "        -5.25793320e-01,  3.00595105e-03,  3.86270303e-01,\n",
       "        -4.69918810e-01],\n",
       "       [-2.56681301e-01, -1.24682373e-02, -5.26146252e-03,\n",
       "         1.08866787e-01, -1.64290736e-02,  3.18607890e-01,\n",
       "        -5.21326430e-01, -4.58710859e-01, -3.63893657e-01,\n",
       "         4.53523095e-01]])"
      ]
     },
     "execution_count": 278,
     "metadata": {},
     "output_type": "execute_result"
    }
   ],
   "source": [
    "eigen_vector"
   ]
  },
  {
   "cell_type": "code",
   "execution_count": 289,
   "id": "3a9216f9",
   "metadata": {},
   "outputs": [
    {
     "data": {
      "text/plain": [
       "array([4.22421299, 1.57527072, 0.02024398, 0.15476152, 0.22037401,\n",
       "       0.40756003, 0.74205841, 0.65012065, 0.99406496, 1.01185852])"
      ]
     },
     "execution_count": 289,
     "metadata": {},
     "output_type": "execute_result"
    }
   ],
   "source": [
    "eigen_value"
   ]
  },
  {
   "cell_type": "code",
   "execution_count": 290,
   "id": "630db849",
   "metadata": {},
   "outputs": [],
   "source": [
    "ev=eigen_vector[:,0]\n",
    "ev1=eigen_vector[:,1]"
   ]
  },
  {
   "cell_type": "code",
   "execution_count": 291,
   "id": "624c1e3c",
   "metadata": {},
   "outputs": [
    {
     "data": {
      "text/plain": [
       "array([ 0.22569874,  0.24528158, -0.09331051,  0.1883758 ,  0.19595182,\n",
       "       -0.48690288, -0.59959056,  0.03147723,  0.45670351, -0.01246824])"
      ]
     },
     "execution_count": 291,
     "metadata": {},
     "output_type": "execute_result"
    }
   ],
   "source": [
    "ev1"
   ]
  },
  {
   "cell_type": "code",
   "execution_count": 292,
   "id": "a9324335",
   "metadata": {},
   "outputs": [
    {
     "data": {
      "text/plain": [
       "array([-0.40827678, -0.39505705, -0.44892193,  0.44161246,  0.42923779,\n",
       "        0.14468798, -0.00519836, -0.01235159,  0.09717497, -0.2566813 ])"
      ]
     },
     "execution_count": 292,
     "metadata": {},
     "output_type": "execute_result"
    }
   ],
   "source": [
    "ev"
   ]
  },
  {
   "cell_type": "code",
   "execution_count": 293,
   "id": "096aa669",
   "metadata": {},
   "outputs": [],
   "source": [
    "U=np.dstack((ev,ev1)).reshape(10,2)"
   ]
  },
  {
   "cell_type": "code",
   "execution_count": 294,
   "id": "7ae08d35",
   "metadata": {},
   "outputs": [
    {
     "data": {
      "text/plain": [
       "(10, 2)"
      ]
     },
     "execution_count": 294,
     "metadata": {},
     "output_type": "execute_result"
    }
   ],
   "source": [
    "U.shape"
   ]
  },
  {
   "cell_type": "code",
   "execution_count": 295,
   "id": "2529e386",
   "metadata": {},
   "outputs": [],
   "source": [
    "projected_data=np.dot(sd_z,U)"
   ]
  },
  {
   "cell_type": "code",
   "execution_count": 296,
   "id": "9f2a4173",
   "metadata": {},
   "outputs": [
    {
     "data": {
      "text/plain": [
       "2.89958940053854"
      ]
     },
     "execution_count": 296,
     "metadata": {},
     "output_type": "execute_result"
    }
   ],
   "source": [
    "projected_data.var()"
   ]
  },
  {
   "cell_type": "markdown",
   "id": "989c11a3",
   "metadata": {},
   "source": [
    "Question E"
   ]
  },
  {
   "cell_type": "markdown",
   "id": "14f41ffe",
   "metadata": {},
   "source": [
    "the eigenvectors the covariance matrix Σ\n",
    "in its eigen-decomposition form (UΛUT)"
   ]
  },
  {
   "cell_type": "code",
   "execution_count": 298,
   "id": "78fc2480",
   "metadata": {},
   "outputs": [],
   "source": [
    "lambdas=np.diag(eigen_value)"
   ]
  },
  {
   "cell_type": "code",
   "execution_count": 299,
   "id": "ac2c58cd",
   "metadata": {},
   "outputs": [
    {
     "data": {
      "text/plain": [
       "array([[4.22421299, 0.        , 0.        , 0.        , 0.        ,\n",
       "        0.        , 0.        , 0.        , 0.        , 0.        ],\n",
       "       [0.        , 1.57527072, 0.        , 0.        , 0.        ,\n",
       "        0.        , 0.        , 0.        , 0.        , 0.        ],\n",
       "       [0.        , 0.        , 0.02024398, 0.        , 0.        ,\n",
       "        0.        , 0.        , 0.        , 0.        , 0.        ],\n",
       "       [0.        , 0.        , 0.        , 0.15476152, 0.        ,\n",
       "        0.        , 0.        , 0.        , 0.        , 0.        ],\n",
       "       [0.        , 0.        , 0.        , 0.        , 0.22037401,\n",
       "        0.        , 0.        , 0.        , 0.        , 0.        ],\n",
       "       [0.        , 0.        , 0.        , 0.        , 0.        ,\n",
       "        0.40756003, 0.        , 0.        , 0.        , 0.        ],\n",
       "       [0.        , 0.        , 0.        , 0.        , 0.        ,\n",
       "        0.        , 0.74205841, 0.        , 0.        , 0.        ],\n",
       "       [0.        , 0.        , 0.        , 0.        , 0.        ,\n",
       "        0.        , 0.        , 0.65012065, 0.        , 0.        ],\n",
       "       [0.        , 0.        , 0.        , 0.        , 0.        ,\n",
       "        0.        , 0.        , 0.        , 0.99406496, 0.        ],\n",
       "       [0.        , 0.        , 0.        , 0.        , 0.        ,\n",
       "        0.        , 0.        , 0.        , 0.        , 1.01185852]])"
      ]
     },
     "execution_count": 299,
     "metadata": {},
     "output_type": "execute_result"
    }
   ],
   "source": [
    "lambdas"
   ]
  },
  {
   "cell_type": "code",
   "execution_count": 300,
   "id": "3d5e724f",
   "metadata": {},
   "outputs": [],
   "source": [
    "x=np.dot(eigen_vector,np.dot(lambdas,eigen_vector.transpose()))\n"
   ]
  },
  {
   "cell_type": "code",
   "execution_count": 301,
   "id": "cb994ed5",
   "metadata": {},
   "outputs": [
    {
     "data": {
      "text/plain": [
       "array([[ 1.00005258,  0.77055255,  0.70249069, -0.63103226, -0.59817658,\n",
       "        -0.36857587, -0.11975342,  0.01338994, -0.00877795,  0.41848807],\n",
       "       [ 0.77055255,  1.00005258,  0.71755458, -0.60981073, -0.58117128,\n",
       "        -0.26697495, -0.17624349,  0.0397457 ,  0.06606485,  0.33683382],\n",
       "       [ 0.70249069,  0.71755458,  1.00005258, -0.85089453, -0.80887754,\n",
       "        -0.15987136,  0.0951622 ,  0.01545556, -0.18668498,  0.43706374],\n",
       "       [-0.63103226, -0.60981073, -0.85089453,  1.00005258,  0.97646319,\n",
       "         0.11227813, -0.12190575, -0.01129466,  0.23528427, -0.32834957],\n",
       "       [-0.59817658, -0.58117128, -0.80887754,  0.97646319,  1.00005258,\n",
       "         0.10016449, -0.11877515, -0.01096618,  0.22981062, -0.3046407 ],\n",
       "       [-0.36857587, -0.26697495, -0.15987136,  0.11227813,  0.10016449,\n",
       "         1.00005258,  0.27405922,  0.00255297, -0.05569155, -0.2067405 ],\n",
       "       [-0.11975342, -0.17624349,  0.0951622 , -0.12190575, -0.11877515,\n",
       "         0.27405922,  1.00005258, -0.0171976 , -0.18628439,  0.03702712],\n",
       "       [ 0.01338994,  0.0397457 ,  0.01545556, -0.01129466, -0.01096618,\n",
       "         0.00255297, -0.0171976 ,  1.00005258,  0.00465937,  0.01142721],\n",
       "       [-0.00877795,  0.06606485, -0.18668498,  0.23528427,  0.22981062,\n",
       "        -0.05569155, -0.18628439,  0.00465937,  1.00005258, -0.22056717],\n",
       "       [ 0.41848807,  0.33683382,  0.43706374, -0.32834957, -0.3046407 ,\n",
       "        -0.2067405 ,  0.03702712,  0.01142721, -0.22056717,  1.00005258]])"
      ]
     },
     "execution_count": 301,
     "metadata": {},
     "output_type": "execute_result"
    }
   ],
   "source": [
    "x"
   ]
  },
  {
   "cell_type": "markdown",
   "id": "9bc636fd",
   "metadata": {},
   "source": [
    "Question F"
   ]
  },
  {
   "cell_type": "code",
   "execution_count": null,
   "id": "daf080c4",
   "metadata": {},
   "outputs": [],
   "source": [
    "Mse "
   ]
  },
  {
   "cell_type": "code",
   "execution_count": 304,
   "id": "4d9d8879",
   "metadata": {},
   "outputs": [],
   "source": [
    "l1=eigen_value[0]\n",
    "l2=eigen_value[1]"
   ]
  },
  {
   "cell_type": "code",
   "execution_count": 305,
   "id": "e31b26ef",
   "metadata": {},
   "outputs": [],
   "source": [
    "mse=np.trace(covar)-l1-l2"
   ]
  },
  {
   "cell_type": "code",
   "execution_count": 306,
   "id": "2b1f0cd1",
   "metadata": {},
   "outputs": [
    {
     "data": {
      "text/plain": [
       "4.201042073900524"
      ]
     },
     "execution_count": 306,
     "metadata": {},
     "output_type": "execute_result"
    }
   ],
   "source": [
    "mse"
   ]
  },
  {
   "cell_type": "code",
   "execution_count": 307,
   "id": "55bb76d2",
   "metadata": {},
   "outputs": [
    {
     "data": {
      "text/plain": [
       "4.201042073900515"
      ]
     },
     "execution_count": 307,
     "metadata": {},
     "output_type": "execute_result"
    }
   ],
   "source": [
    "eigen_value.sum()-eigen_value[0]-eigen_value[1]"
   ]
  },
  {
   "cell_type": "markdown",
   "id": "1e7dc0ae",
   "metadata": {},
   "source": [
    "Mse of the projected space is equal to the sum of eigenvalues except the first two"
   ]
  },
  {
   "cell_type": "markdown",
   "id": "c80966d2",
   "metadata": {},
   "source": [
    "Question g"
   ]
  },
  {
   "cell_type": "markdown",
   "id": "e91f8d23",
   "metadata": {},
   "source": [
    " Plot the datapoints after projecting those in the first two principal components."
   ]
  },
  {
   "cell_type": "code",
   "execution_count": 308,
   "id": "686d03b2",
   "metadata": {},
   "outputs": [],
   "source": [
    "projected_1=sd_z.dot(ev)\n"
   ]
  },
  {
   "cell_type": "code",
   "execution_count": 309,
   "id": "46eeaf55",
   "metadata": {},
   "outputs": [],
   "source": [
    "projected_2=sd_z.dot(ev1)\n"
   ]
  },
  {
   "cell_type": "code",
   "execution_count": 310,
   "id": "7bded33a",
   "metadata": {},
   "outputs": [
    {
     "data": {
      "text/html": [
       "<div>\n",
       "<style scoped>\n",
       "    .dataframe tbody tr th:only-of-type {\n",
       "        vertical-align: middle;\n",
       "    }\n",
       "\n",
       "    .dataframe tbody tr th {\n",
       "        vertical-align: top;\n",
       "    }\n",
       "\n",
       "    .dataframe thead th {\n",
       "        text-align: right;\n",
       "    }\n",
       "</style>\n",
       "<table border=\"1\" class=\"dataframe\">\n",
       "  <thead>\n",
       "    <tr style=\"text-align: right;\">\n",
       "      <th></th>\n",
       "      <th>PC1</th>\n",
       "      <th>PC2</th>\n",
       "      <th>class</th>\n",
       "    </tr>\n",
       "  </thead>\n",
       "  <tbody>\n",
       "    <tr>\n",
       "      <th>0</th>\n",
       "      <td>1.016550</td>\n",
       "      <td>-0.369256</td>\n",
       "      <td>g</td>\n",
       "    </tr>\n",
       "    <tr>\n",
       "      <th>1</th>\n",
       "      <td>1.679961</td>\n",
       "      <td>-0.549225</td>\n",
       "      <td>g</td>\n",
       "    </tr>\n",
       "    <tr>\n",
       "      <th>2</th>\n",
       "      <td>-5.966242</td>\n",
       "      <td>1.831316</td>\n",
       "      <td>g</td>\n",
       "    </tr>\n",
       "    <tr>\n",
       "      <th>3</th>\n",
       "      <td>2.557060</td>\n",
       "      <td>-0.031629</td>\n",
       "      <td>g</td>\n",
       "    </tr>\n",
       "    <tr>\n",
       "      <th>4</th>\n",
       "      <td>-1.655853</td>\n",
       "      <td>-0.552902</td>\n",
       "      <td>g</td>\n",
       "    </tr>\n",
       "    <tr>\n",
       "      <th>5</th>\n",
       "      <td>-0.804523</td>\n",
       "      <td>-1.575721</td>\n",
       "      <td>g</td>\n",
       "    </tr>\n",
       "    <tr>\n",
       "      <th>6</th>\n",
       "      <td>-0.748066</td>\n",
       "      <td>-1.194045</td>\n",
       "      <td>g</td>\n",
       "    </tr>\n",
       "    <tr>\n",
       "      <th>7</th>\n",
       "      <td>0.646005</td>\n",
       "      <td>-1.027600</td>\n",
       "      <td>g</td>\n",
       "    </tr>\n",
       "    <tr>\n",
       "      <th>8</th>\n",
       "      <td>-3.638097</td>\n",
       "      <td>-2.493231</td>\n",
       "      <td>g</td>\n",
       "    </tr>\n",
       "    <tr>\n",
       "      <th>9</th>\n",
       "      <td>0.565962</td>\n",
       "      <td>-1.136799</td>\n",
       "      <td>g</td>\n",
       "    </tr>\n",
       "    <tr>\n",
       "      <th>10</th>\n",
       "      <td>-2.006813</td>\n",
       "      <td>-0.846188</td>\n",
       "      <td>g</td>\n",
       "    </tr>\n",
       "    <tr>\n",
       "      <th>11</th>\n",
       "      <td>1.614561</td>\n",
       "      <td>-0.236955</td>\n",
       "      <td>g</td>\n",
       "    </tr>\n",
       "    <tr>\n",
       "      <th>12</th>\n",
       "      <td>-0.962694</td>\n",
       "      <td>-0.419888</td>\n",
       "      <td>g</td>\n",
       "    </tr>\n",
       "    <tr>\n",
       "      <th>13</th>\n",
       "      <td>1.588437</td>\n",
       "      <td>0.717900</td>\n",
       "      <td>g</td>\n",
       "    </tr>\n",
       "    <tr>\n",
       "      <th>14</th>\n",
       "      <td>-0.973675</td>\n",
       "      <td>0.301860</td>\n",
       "      <td>g</td>\n",
       "    </tr>\n",
       "  </tbody>\n",
       "</table>\n",
       "</div>"
      ],
      "text/plain": [
       "         PC1       PC2 class\n",
       "0   1.016550 -0.369256     g\n",
       "1   1.679961 -0.549225     g\n",
       "2  -5.966242  1.831316     g\n",
       "3   2.557060 -0.031629     g\n",
       "4  -1.655853 -0.552902     g\n",
       "5  -0.804523 -1.575721     g\n",
       "6  -0.748066 -1.194045     g\n",
       "7   0.646005 -1.027600     g\n",
       "8  -3.638097 -2.493231     g\n",
       "9   0.565962 -1.136799     g\n",
       "10 -2.006813 -0.846188     g\n",
       "11  1.614561 -0.236955     g\n",
       "12 -0.962694 -0.419888     g\n",
       "13  1.588437  0.717900     g\n",
       "14 -0.973675  0.301860     g"
      ]
     },
     "execution_count": 310,
     "metadata": {},
     "output_type": "execute_result"
    }
   ],
   "source": [
    "res=pd.DataFrame(projected_data[:,0],columns=['PC1'])\n",
    "res['PC2']=projected_data[:,1]\n",
    "res['class']=cl\n",
    "res.head(15)"
   ]
  },
  {
   "cell_type": "code",
   "execution_count": 311,
   "id": "4e449073",
   "metadata": {},
   "outputs": [],
   "source": [
    "import matplotlib.pyplot as plt"
   ]
  },
  {
   "cell_type": "code",
   "execution_count": 312,
   "id": "03678953",
   "metadata": {},
   "outputs": [],
   "source": [
    "import seaborn as sns"
   ]
  },
  {
   "cell_type": "code",
   "execution_count": 313,
   "id": "f142da07",
   "metadata": {},
   "outputs": [
    {
     "name": "stderr",
     "output_type": "stream",
     "text": [
      "C:\\Users\\Aditya Gaitonde\\anaconda3\\lib\\site-packages\\seaborn\\_decorators.py:36: FutureWarning: Pass the following variables as keyword args: x, y. From version 0.12, the only valid positional argument will be `data`, and passing other arguments without an explicit keyword will result in an error or misinterpretation.\n",
      "  warnings.warn(\n"
     ]
    },
    {
     "data": {
      "text/plain": [
       "<AxesSubplot:xlabel='PC2'>"
      ]
     },
     "execution_count": 313,
     "metadata": {},
     "output_type": "execute_result"
    },
    {
     "data": {
      "image/png": "[encoded data removed]",
      "text/plain": [
       "<Figure size 1440x720 with 1 Axes>"
      ]
     },
     "metadata": {
      "needs_background": "light"
     },
     "output_type": "display_data"
    }
   ],
   "source": [
    "plt.figure(figsize=(20,10))\n",
    "sns.scatterplot(res['PC2'],[0]*len(res),hue=res['class'],s=200)"
   ]
  },
  {
   "cell_type": "markdown",
   "id": "eac99ddf",
   "metadata": {},
   "source": [
    "Question H"
   ]
  },
  {
   "cell_type": "markdown",
   "id": "032d6acb",
   "metadata": {},
   "source": [
    "PCA"
   ]
  },
  {
   "cell_type": "code",
   "execution_count": 346,
   "id": "2959e2d0",
   "metadata": {},
   "outputs": [],
   "source": [
    "from sklearn.decomposition import PCA\n",
    "pca = PCA(n_components = 0.95)\n",
    "pca.fit(sd_z)\n",
    "reduced = pca.transform(sd_z)"
   ]
  },
  {
   "cell_type": "code",
   "execution_count": 347,
   "id": "5be7e851",
   "metadata": {},
   "outputs": [
    {
     "data": {
      "text/plain": [
       "array([[-1.01654976, -0.36925645,  0.80995074, ..., -0.52498314,\n",
       "        -0.46510731, -0.03388353],\n",
       "       [-1.67996111, -0.54922547, -0.98161468, ...,  0.13761196,\n",
       "         0.48799867,  0.71280668],\n",
       "       [ 5.96624169,  1.8313162 ,  1.49720548, ...,  0.48762911,\n",
       "         3.41897421,  1.84986395],\n",
       "       ...,\n",
       "       [ 2.76395431, -0.49118566,  0.06280246, ...,  0.47771837,\n",
       "         0.04880325, -0.24659279],\n",
       "       [ 4.64718554,  2.31055878, -1.16750947, ...,  1.2418055 ,\n",
       "         2.82642525, -0.9835509 ],\n",
       "       [ 3.35429914,  4.76432253,  0.09326719, ..., -0.69031222,\n",
       "         0.25811499, -0.00597345]])"
      ]
     },
     "execution_count": 347,
     "metadata": {},
     "output_type": "execute_result"
    }
   ],
   "source": [
    "reduced"
   ]
  },
  {
   "cell_type": "markdown",
   "id": "d7a2e5ad",
   "metadata": {},
   "source": [
    "Centered Data "
   ]
  },
  {
   "cell_type": "code",
   "execution_count": 318,
   "id": "214f9452",
   "metadata": {},
   "outputs": [],
   "source": [
    "sd_z = (sd-np.mean(sd,axis = 0))/np.std(sd,axis =0)"
   ]
  },
  {
   "cell_type": "markdown",
   "id": "323284e2",
   "metadata": {},
   "source": [
    "Covariance Matrix"
   ]
  },
  {
   "cell_type": "code",
   "execution_count": 319,
   "id": "f83aad08",
   "metadata": {},
   "outputs": [],
   "source": [
    "covar_mat = np.cov(sd_z, rowvar = False)"
   ]
  },
  {
   "cell_type": "code",
   "execution_count": 320,
   "id": "c3dca764",
   "metadata": {},
   "outputs": [],
   "source": [
    "Eig_val,Eig_vec=np.linalg.eig(covar_mat)"
   ]
  },
  {
   "cell_type": "code",
   "execution_count": 321,
   "id": "1de08911",
   "metadata": {},
   "outputs": [
    {
     "data": {
      "text/plain": [
       "array([4.22421299, 1.57527072, 0.02024398, 0.15476152, 0.22037401,\n",
       "       0.40756003, 0.74205841, 0.65012065, 0.99406496, 1.01185852])"
      ]
     },
     "execution_count": 321,
     "metadata": {},
     "output_type": "execute_result"
    }
   ],
   "source": [
    "Eig_val"
   ]
  },
  {
   "cell_type": "code",
   "execution_count": 322,
   "id": "2d9fc4a7",
   "metadata": {},
   "outputs": [
    {
     "data": {
      "text/plain": [
       "array([[-4.08276775e-01,  2.25698741e-01,  1.79955894e-02,\n",
       "        -9.04660487e-02,  7.53225050e-01, -4.37462245e-01,\n",
       "        -1.19474438e-01, -1.49895160e-02,  2.53364917e-02,\n",
       "        -5.00639811e-04],\n",
       "       [-3.95057049e-01,  2.45281583e-01, -1.17981303e-02,\n",
       "         4.27867208e-01, -5.39478658e-01, -4.95341859e-01,\n",
       "        -5.78974762e-02, -1.68904043e-01,  9.46212428e-02,\n",
       "        -1.52717635e-01],\n",
       "       [-4.48921929e-01, -9.33105148e-02,  1.07611883e-01,\n",
       "        -8.15749467e-01, -3.21598696e-01, -1.07193101e-03,\n",
       "        -1.59226791e-02, -2.76416862e-02,  5.74952569e-02,\n",
       "        -7.06014805e-02],\n",
       "       [ 4.41612458e-01,  1.88375795e-01,  7.48911506e-01,\n",
       "        -1.48746906e-01, -7.19134376e-02, -3.30736734e-01,\n",
       "        -1.80669622e-01, -1.04311902e-01, -1.08617795e-01,\n",
       "         1.28919623e-01],\n",
       "       [ 4.29237789e-01,  1.95951819e-01, -6.53467431e-01,\n",
       "        -3.15173270e-01, -1.05167458e-01, -3.89073611e-01,\n",
       "        -2.05565490e-01, -1.15773238e-01, -1.16313517e-01,\n",
       "         1.39197755e-01],\n",
       "       [ 1.44687983e-01, -4.86902882e-01, -1.01361748e-04,\n",
       "        -6.97106831e-03,  1.39311777e-01, -1.13592072e-01,\n",
       "         2.27372884e-02, -7.21816382e-01,  2.13916540e-01,\n",
       "        -3.77273475e-01],\n",
       "       [-5.19836359e-03, -5.99590556e-01,  2.71596438e-03,\n",
       "         9.11194260e-02, -3.57336827e-02, -2.33844650e-01,\n",
       "        -5.98664166e-01,  4.59923140e-01,  5.35141492e-02,\n",
       "        -5.83262999e-02],\n",
       "       [-1.23515912e-02,  3.14772268e-02, -8.71296824e-06,\n",
       "        -9.22610587e-03,  1.72572649e-02,  1.43239128e-02,\n",
       "        -8.11764733e-03,  5.67924976e-02, -7.94685553e-01,\n",
       "        -6.02869888e-01],\n",
       "       [ 9.71749700e-02,  4.56703506e-01, -5.78335826e-03,\n",
       "        -3.93710146e-02,  2.65508688e-02,  3.64958044e-01,\n",
       "        -5.25793320e-01,  3.00595105e-03,  3.86270303e-01,\n",
       "        -4.69918810e-01],\n",
       "       [-2.56681301e-01, -1.24682373e-02, -5.26146252e-03,\n",
       "         1.08866787e-01, -1.64290736e-02,  3.18607890e-01,\n",
       "        -5.21326430e-01, -4.58710859e-01, -3.63893657e-01,\n",
       "         4.53523095e-01]])"
      ]
     },
     "execution_count": 322,
     "metadata": {},
     "output_type": "execute_result"
    }
   ],
   "source": [
    "Eig_vec"
   ]
  },
  {
   "cell_type": "code",
   "execution_count": 323,
   "id": "d2c8a5d8",
   "metadata": {},
   "outputs": [],
   "source": [
    "s=0\n",
    "for i in range (10):\n",
    "    if s<df1.var():\n",
    "        s=s+Eig_val[i]\n",
    "    else:\n",
    "        print(i)"
   ]
  },
  {
   "cell_type": "code",
   "execution_count": 324,
   "id": "e8fd45cd",
   "metadata": {},
   "outputs": [],
   "source": [
    "Ur=Eig_vec[0:7]"
   ]
  },
  {
   "cell_type": "code",
   "execution_count": 325,
   "id": "573618c1",
   "metadata": {},
   "outputs": [
    {
     "data": {
      "text/plain": [
       "array([[-4.08276775e-01,  2.25698741e-01,  1.79955894e-02,\n",
       "        -9.04660487e-02,  7.53225050e-01, -4.37462245e-01,\n",
       "        -1.19474438e-01, -1.49895160e-02,  2.53364917e-02,\n",
       "        -5.00639811e-04],\n",
       "       [-3.95057049e-01,  2.45281583e-01, -1.17981303e-02,\n",
       "         4.27867208e-01, -5.39478658e-01, -4.95341859e-01,\n",
       "        -5.78974762e-02, -1.68904043e-01,  9.46212428e-02,\n",
       "        -1.52717635e-01],\n",
       "       [-4.48921929e-01, -9.33105148e-02,  1.07611883e-01,\n",
       "        -8.15749467e-01, -3.21598696e-01, -1.07193101e-03,\n",
       "        -1.59226791e-02, -2.76416862e-02,  5.74952569e-02,\n",
       "        -7.06014805e-02],\n",
       "       [ 4.41612458e-01,  1.88375795e-01,  7.48911506e-01,\n",
       "        -1.48746906e-01, -7.19134376e-02, -3.30736734e-01,\n",
       "        -1.80669622e-01, -1.04311902e-01, -1.08617795e-01,\n",
       "         1.28919623e-01],\n",
       "       [ 4.29237789e-01,  1.95951819e-01, -6.53467431e-01,\n",
       "        -3.15173270e-01, -1.05167458e-01, -3.89073611e-01,\n",
       "        -2.05565490e-01, -1.15773238e-01, -1.16313517e-01,\n",
       "         1.39197755e-01],\n",
       "       [ 1.44687983e-01, -4.86902882e-01, -1.01361748e-04,\n",
       "        -6.97106831e-03,  1.39311777e-01, -1.13592072e-01,\n",
       "         2.27372884e-02, -7.21816382e-01,  2.13916540e-01,\n",
       "        -3.77273475e-01],\n",
       "       [-5.19836359e-03, -5.99590556e-01,  2.71596438e-03,\n",
       "         9.11194260e-02, -3.57336827e-02, -2.33844650e-01,\n",
       "        -5.98664166e-01,  4.59923140e-01,  5.35141492e-02,\n",
       "        -5.83262999e-02]])"
      ]
     },
     "execution_count": 325,
     "metadata": {},
     "output_type": "execute_result"
    }
   ],
   "source": [
    "Ur"
   ]
  },
  {
   "cell_type": "code",
   "execution_count": 326,
   "id": "5175483e",
   "metadata": {},
   "outputs": [],
   "source": [
    "p = Ur.transpose().dot(Ur)"
   ]
  },
  {
   "cell_type": "code",
   "execution_count": 327,
   "id": "0ac51e54",
   "metadata": {},
   "outputs": [],
   "source": [
    "X_bar=sd_z.dot(p)"
   ]
  },
  {
   "cell_type": "code",
   "execution_count": 344,
   "id": "cd337099",
   "metadata": {},
   "outputs": [],
   "source": [
    "reduced_data=Ur.dot(pro_data.transpose()).transpose()"
   ]
  },
  {
   "cell_type": "code",
   "execution_count": 340,
   "id": "a46fe06e",
   "metadata": {},
   "outputs": [
    {
     "ename": "IndexError",
     "evalue": "index 7 is out of bounds for axis 1 with size 7",
     "output_type": "error",
     "traceback": [
      "\u001b[1;31m---------------------------------------------------------------------------\u001b[0m",
      "\u001b[1;31mIndexError\u001b[0m                                Traceback (most recent call last)",
      "\u001b[1;32m<ipython-input-340-5b62bed85fb8>\u001b[0m in \u001b[0;36m<module>\u001b[1;34m\u001b[0m\n\u001b[1;32m----> 1\u001b[1;33m \u001b[0mreduced_data\u001b[0m\u001b[1;33m[\u001b[0m\u001b[1;36m10\u001b[0m\u001b[1;33m,\u001b[0m\u001b[1;36m7\u001b[0m\u001b[1;33m]\u001b[0m\u001b[1;33m\u001b[0m\u001b[1;33m\u001b[0m\u001b[0m\n\u001b[0m",
      "\u001b[1;31mIndexError\u001b[0m: index 7 is out of bounds for axis 1 with size 7"
     ]
    }
   ],
   "source": [
    "reduced_data[10,7]"
   ]
  },
  {
   "cell_type": "code",
   "execution_count": 206,
   "id": "67aa79d2",
   "metadata": {},
   "outputs": [
    {
     "data": {
      "text/plain": [
       "array([[-1.01654976, -0.36925645,  0.80995074, ..., -0.52498314,\n",
       "        -0.46510731, -0.03388353],\n",
       "       [-1.67996111, -0.54922547, -0.98161468, ...,  0.13761196,\n",
       "         0.48799867,  0.71280668],\n",
       "       [ 5.96624169,  1.8313162 ,  1.49720548, ...,  0.48762911,\n",
       "         3.41897421,  1.84986395],\n",
       "       ...,\n",
       "       [ 2.76395431, -0.49118566,  0.06280246, ...,  0.47771837,\n",
       "         0.04880325, -0.24659279],\n",
       "       [ 4.64718554,  2.31055878, -1.16750947, ...,  1.2418055 ,\n",
       "         2.82642525, -0.9835509 ],\n",
       "       [ 3.35429914,  4.76432253,  0.09326719, ..., -0.69031222,\n",
       "         0.25811499, -0.00597345]])"
      ]
     },
     "execution_count": 206,
     "metadata": {},
     "output_type": "execute_result"
    }
   ],
   "source": [
    "reduced"
   ]
  },
  {
   "cell_type": "code",
   "execution_count": 330,
   "id": "60b426e0",
   "metadata": {},
   "outputs": [],
   "source": [
    "pro_data=sd_z.dot(Eig_vec)"
   ]
  },
  {
   "cell_type": "code",
   "execution_count": 331,
   "id": "a5091b5d",
   "metadata": {},
   "outputs": [
    {
     "data": {
      "text/plain": [
       "array([[ 1.01654976, -0.36925645,  0.10257196, ...,  0.46510731,\n",
       "         1.12162721, -0.80995074],\n",
       "       [ 1.67996111, -0.54922547, -0.41506035, ..., -0.48799867,\n",
       "        -0.22118145,  0.98161468],\n",
       "       [-5.96624169,  1.8313162 , -0.01118912, ..., -3.41897421,\n",
       "         3.72895739, -1.49720548],\n",
       "       ...,\n",
       "       [-2.76395431, -0.49118566,  0.09879725, ..., -0.04880325,\n",
       "         0.64832271, -0.06280246],\n",
       "       [-4.64718554,  2.31055878, -0.07963023, ..., -2.82642525,\n",
       "         2.96104592,  1.16750947],\n",
       "       [-3.35429914,  4.76432253,  0.08362495, ..., -0.25811499,\n",
       "        -1.57436009, -0.09326719]])"
      ]
     },
     "execution_count": 331,
     "metadata": {},
     "output_type": "execute_result"
    }
   ],
   "source": [
    "pro_data"
   ]
  },
  {
   "cell_type": "code",
   "execution_count": 200,
   "id": "e773f818",
   "metadata": {},
   "outputs": [
    {
     "data": {
      "text/plain": [
       "(7, 10)"
      ]
     },
     "execution_count": 200,
     "metadata": {},
     "output_type": "execute_result"
    }
   ],
   "source": [
    "Ur.shape"
   ]
  },
  {
   "cell_type": "code",
   "execution_count": 207,
   "id": "221810e4",
   "metadata": {},
   "outputs": [
    {
     "data": {
      "text/html": [
       "<div>\n",
       "<style scoped>\n",
       "    .dataframe tbody tr th:only-of-type {\n",
       "        vertical-align: middle;\n",
       "    }\n",
       "\n",
       "    .dataframe tbody tr th {\n",
       "        vertical-align: top;\n",
       "    }\n",
       "\n",
       "    .dataframe thead th {\n",
       "        text-align: right;\n",
       "    }\n",
       "</style>\n",
       "<table border=\"1\" class=\"dataframe\">\n",
       "  <thead>\n",
       "    <tr style=\"text-align: right;\">\n",
       "      <th></th>\n",
       "      <th>flength</th>\n",
       "      <th>fwidth</th>\n",
       "      <th>fsize</th>\n",
       "      <th>fconc</th>\n",
       "      <th>fconc1</th>\n",
       "      <th>fasym</th>\n",
       "      <th>fm3long</th>\n",
       "      <th>fm3trans</th>\n",
       "      <th>falpha</th>\n",
       "      <th>fdist</th>\n",
       "    </tr>\n",
       "  </thead>\n",
       "  <tbody>\n",
       "    <tr>\n",
       "      <th>0</th>\n",
       "      <td>28.7967</td>\n",
       "      <td>16.0021</td>\n",
       "      <td>2.6449</td>\n",
       "      <td>0.3918</td>\n",
       "      <td>0.1982</td>\n",
       "      <td>27.7004</td>\n",
       "      <td>22.0110</td>\n",
       "      <td>-8.2027</td>\n",
       "      <td>40.0920</td>\n",
       "      <td>81.8828</td>\n",
       "    </tr>\n",
       "    <tr>\n",
       "      <th>1</th>\n",
       "      <td>31.6036</td>\n",
       "      <td>11.7235</td>\n",
       "      <td>2.5185</td>\n",
       "      <td>0.5303</td>\n",
       "      <td>0.3773</td>\n",
       "      <td>26.2722</td>\n",
       "      <td>23.8238</td>\n",
       "      <td>-9.9574</td>\n",
       "      <td>6.3609</td>\n",
       "      <td>205.2610</td>\n",
       "    </tr>\n",
       "    <tr>\n",
       "      <th>2</th>\n",
       "      <td>162.0520</td>\n",
       "      <td>136.0310</td>\n",
       "      <td>4.0612</td>\n",
       "      <td>0.0374</td>\n",
       "      <td>0.0187</td>\n",
       "      <td>116.7410</td>\n",
       "      <td>-64.8580</td>\n",
       "      <td>-45.2160</td>\n",
       "      <td>76.9600</td>\n",
       "      <td>256.7880</td>\n",
       "    </tr>\n",
       "    <tr>\n",
       "      <th>3</th>\n",
       "      <td>23.8172</td>\n",
       "      <td>9.5728</td>\n",
       "      <td>2.3385</td>\n",
       "      <td>0.6147</td>\n",
       "      <td>0.3922</td>\n",
       "      <td>27.2107</td>\n",
       "      <td>-6.4633</td>\n",
       "      <td>-7.1513</td>\n",
       "      <td>10.4490</td>\n",
       "      <td>116.7370</td>\n",
       "    </tr>\n",
       "    <tr>\n",
       "      <th>4</th>\n",
       "      <td>75.1362</td>\n",
       "      <td>30.9205</td>\n",
       "      <td>3.1611</td>\n",
       "      <td>0.3168</td>\n",
       "      <td>0.1832</td>\n",
       "      <td>-5.5277</td>\n",
       "      <td>28.5525</td>\n",
       "      <td>21.8393</td>\n",
       "      <td>4.6480</td>\n",
       "      <td>356.4620</td>\n",
       "    </tr>\n",
       "    <tr>\n",
       "      <th>...</th>\n",
       "      <td>...</td>\n",
       "      <td>...</td>\n",
       "      <td>...</td>\n",
       "      <td>...</td>\n",
       "      <td>...</td>\n",
       "      <td>...</td>\n",
       "      <td>...</td>\n",
       "      <td>...</td>\n",
       "      <td>...</td>\n",
       "      <td>...</td>\n",
       "    </tr>\n",
       "    <tr>\n",
       "      <th>19015</th>\n",
       "      <td>21.3846</td>\n",
       "      <td>10.9170</td>\n",
       "      <td>2.6161</td>\n",
       "      <td>0.5857</td>\n",
       "      <td>0.3934</td>\n",
       "      <td>15.2618</td>\n",
       "      <td>11.5245</td>\n",
       "      <td>2.8766</td>\n",
       "      <td>2.4229</td>\n",
       "      <td>106.8258</td>\n",
       "    </tr>\n",
       "    <tr>\n",
       "      <th>19016</th>\n",
       "      <td>28.9452</td>\n",
       "      <td>6.7020</td>\n",
       "      <td>2.2672</td>\n",
       "      <td>0.5351</td>\n",
       "      <td>0.2784</td>\n",
       "      <td>37.0816</td>\n",
       "      <td>13.1853</td>\n",
       "      <td>-2.9632</td>\n",
       "      <td>86.7975</td>\n",
       "      <td>247.4560</td>\n",
       "    </tr>\n",
       "    <tr>\n",
       "      <th>19017</th>\n",
       "      <td>75.4455</td>\n",
       "      <td>47.5305</td>\n",
       "      <td>3.4483</td>\n",
       "      <td>0.1417</td>\n",
       "      <td>0.0549</td>\n",
       "      <td>-9.3561</td>\n",
       "      <td>41.0562</td>\n",
       "      <td>-9.4662</td>\n",
       "      <td>30.2987</td>\n",
       "      <td>256.5166</td>\n",
       "    </tr>\n",
       "    <tr>\n",
       "      <th>19018</th>\n",
       "      <td>120.5135</td>\n",
       "      <td>76.9018</td>\n",
       "      <td>3.9939</td>\n",
       "      <td>0.0944</td>\n",
       "      <td>0.0683</td>\n",
       "      <td>5.8043</td>\n",
       "      <td>-93.5224</td>\n",
       "      <td>-63.8389</td>\n",
       "      <td>84.6874</td>\n",
       "      <td>408.3166</td>\n",
       "    </tr>\n",
       "    <tr>\n",
       "      <th>19019</th>\n",
       "      <td>187.1814</td>\n",
       "      <td>53.0014</td>\n",
       "      <td>3.2093</td>\n",
       "      <td>0.2876</td>\n",
       "      <td>0.1539</td>\n",
       "      <td>-167.3125</td>\n",
       "      <td>-168.4558</td>\n",
       "      <td>31.4755</td>\n",
       "      <td>52.7310</td>\n",
       "      <td>272.3174</td>\n",
       "    </tr>\n",
       "  </tbody>\n",
       "</table>\n",
       "<p>19020 rows × 10 columns</p>\n",
       "</div>"
      ],
      "text/plain": [
       "        flength    fwidth   fsize   fconc  fconc1     fasym   fm3long  \\\n",
       "0       28.7967   16.0021  2.6449  0.3918  0.1982   27.7004   22.0110   \n",
       "1       31.6036   11.7235  2.5185  0.5303  0.3773   26.2722   23.8238   \n",
       "2      162.0520  136.0310  4.0612  0.0374  0.0187  116.7410  -64.8580   \n",
       "3       23.8172    9.5728  2.3385  0.6147  0.3922   27.2107   -6.4633   \n",
       "4       75.1362   30.9205  3.1611  0.3168  0.1832   -5.5277   28.5525   \n",
       "...         ...       ...     ...     ...     ...       ...       ...   \n",
       "19015   21.3846   10.9170  2.6161  0.5857  0.3934   15.2618   11.5245   \n",
       "19016   28.9452    6.7020  2.2672  0.5351  0.2784   37.0816   13.1853   \n",
       "19017   75.4455   47.5305  3.4483  0.1417  0.0549   -9.3561   41.0562   \n",
       "19018  120.5135   76.9018  3.9939  0.0944  0.0683    5.8043  -93.5224   \n",
       "19019  187.1814   53.0014  3.2093  0.2876  0.1539 -167.3125 -168.4558   \n",
       "\n",
       "       fm3trans   falpha     fdist  \n",
       "0       -8.2027  40.0920   81.8828  \n",
       "1       -9.9574   6.3609  205.2610  \n",
       "2      -45.2160  76.9600  256.7880  \n",
       "3       -7.1513  10.4490  116.7370  \n",
       "4       21.8393   4.6480  356.4620  \n",
       "...         ...      ...       ...  \n",
       "19015    2.8766   2.4229  106.8258  \n",
       "19016   -2.9632  86.7975  247.4560  \n",
       "19017   -9.4662  30.2987  256.5166  \n",
       "19018  -63.8389  84.6874  408.3166  \n",
       "19019   31.4755  52.7310  272.3174  \n",
       "\n",
       "[19020 rows x 10 columns]"
      ]
     },
     "execution_count": 207,
     "metadata": {},
     "output_type": "execute_result"
    }
   ],
   "source": [
    "df"
   ]
  },
  {
   "cell_type": "code",
   "execution_count": 231,
   "id": "4dca053b",
   "metadata": {},
   "outputs": [
    {
     "data": {
      "text/html": [
       "<div>\n",
       "<style scoped>\n",
       "    .dataframe tbody tr th:only-of-type {\n",
       "        vertical-align: middle;\n",
       "    }\n",
       "\n",
       "    .dataframe tbody tr th {\n",
       "        vertical-align: top;\n",
       "    }\n",
       "\n",
       "    .dataframe thead th {\n",
       "        text-align: right;\n",
       "    }\n",
       "</style>\n",
       "<table border=\"1\" class=\"dataframe\">\n",
       "  <thead>\n",
       "    <tr style=\"text-align: right;\">\n",
       "      <th></th>\n",
       "      <th>flength</th>\n",
       "      <th>fwidth</th>\n",
       "      <th>fsize</th>\n",
       "      <th>fconc</th>\n",
       "      <th>fconc1</th>\n",
       "      <th>fasym</th>\n",
       "      <th>fm3long</th>\n",
       "      <th>fm3trans</th>\n",
       "      <th>falpha</th>\n",
       "      <th>fdist</th>\n",
       "    </tr>\n",
       "  </thead>\n",
       "  <tbody>\n",
       "    <tr>\n",
       "      <th>0</th>\n",
       "      <td>28.7967</td>\n",
       "      <td>16.0021</td>\n",
       "      <td>2.6449</td>\n",
       "      <td>0.3918</td>\n",
       "      <td>0.1982</td>\n",
       "      <td>27.7004</td>\n",
       "      <td>22.0110</td>\n",
       "      <td>-8.2027</td>\n",
       "      <td>40.0920</td>\n",
       "      <td>81.8828</td>\n",
       "    </tr>\n",
       "    <tr>\n",
       "      <th>1</th>\n",
       "      <td>31.6036</td>\n",
       "      <td>11.7235</td>\n",
       "      <td>2.5185</td>\n",
       "      <td>0.5303</td>\n",
       "      <td>0.3773</td>\n",
       "      <td>26.2722</td>\n",
       "      <td>23.8238</td>\n",
       "      <td>-9.9574</td>\n",
       "      <td>6.3609</td>\n",
       "      <td>205.2610</td>\n",
       "    </tr>\n",
       "    <tr>\n",
       "      <th>2</th>\n",
       "      <td>162.0520</td>\n",
       "      <td>136.0310</td>\n",
       "      <td>4.0612</td>\n",
       "      <td>0.0374</td>\n",
       "      <td>0.0187</td>\n",
       "      <td>116.7410</td>\n",
       "      <td>-64.8580</td>\n",
       "      <td>-45.2160</td>\n",
       "      <td>76.9600</td>\n",
       "      <td>256.7880</td>\n",
       "    </tr>\n",
       "    <tr>\n",
       "      <th>3</th>\n",
       "      <td>23.8172</td>\n",
       "      <td>9.5728</td>\n",
       "      <td>2.3385</td>\n",
       "      <td>0.6147</td>\n",
       "      <td>0.3922</td>\n",
       "      <td>27.2107</td>\n",
       "      <td>-6.4633</td>\n",
       "      <td>-7.1513</td>\n",
       "      <td>10.4490</td>\n",
       "      <td>116.7370</td>\n",
       "    </tr>\n",
       "    <tr>\n",
       "      <th>4</th>\n",
       "      <td>75.1362</td>\n",
       "      <td>30.9205</td>\n",
       "      <td>3.1611</td>\n",
       "      <td>0.3168</td>\n",
       "      <td>0.1832</td>\n",
       "      <td>-5.5277</td>\n",
       "      <td>28.5525</td>\n",
       "      <td>21.8393</td>\n",
       "      <td>4.6480</td>\n",
       "      <td>356.4620</td>\n",
       "    </tr>\n",
       "    <tr>\n",
       "      <th>...</th>\n",
       "      <td>...</td>\n",
       "      <td>...</td>\n",
       "      <td>...</td>\n",
       "      <td>...</td>\n",
       "      <td>...</td>\n",
       "      <td>...</td>\n",
       "      <td>...</td>\n",
       "      <td>...</td>\n",
       "      <td>...</td>\n",
       "      <td>...</td>\n",
       "    </tr>\n",
       "    <tr>\n",
       "      <th>19015</th>\n",
       "      <td>21.3846</td>\n",
       "      <td>10.9170</td>\n",
       "      <td>2.6161</td>\n",
       "      <td>0.5857</td>\n",
       "      <td>0.3934</td>\n",
       "      <td>15.2618</td>\n",
       "      <td>11.5245</td>\n",
       "      <td>2.8766</td>\n",
       "      <td>2.4229</td>\n",
       "      <td>106.8258</td>\n",
       "    </tr>\n",
       "    <tr>\n",
       "      <th>19016</th>\n",
       "      <td>28.9452</td>\n",
       "      <td>6.7020</td>\n",
       "      <td>2.2672</td>\n",
       "      <td>0.5351</td>\n",
       "      <td>0.2784</td>\n",
       "      <td>37.0816</td>\n",
       "      <td>13.1853</td>\n",
       "      <td>-2.9632</td>\n",
       "      <td>86.7975</td>\n",
       "      <td>247.4560</td>\n",
       "    </tr>\n",
       "    <tr>\n",
       "      <th>19017</th>\n",
       "      <td>75.4455</td>\n",
       "      <td>47.5305</td>\n",
       "      <td>3.4483</td>\n",
       "      <td>0.1417</td>\n",
       "      <td>0.0549</td>\n",
       "      <td>-9.3561</td>\n",
       "      <td>41.0562</td>\n",
       "      <td>-9.4662</td>\n",
       "      <td>30.2987</td>\n",
       "      <td>256.5166</td>\n",
       "    </tr>\n",
       "    <tr>\n",
       "      <th>19018</th>\n",
       "      <td>120.5135</td>\n",
       "      <td>76.9018</td>\n",
       "      <td>3.9939</td>\n",
       "      <td>0.0944</td>\n",
       "      <td>0.0683</td>\n",
       "      <td>5.8043</td>\n",
       "      <td>-93.5224</td>\n",
       "      <td>-63.8389</td>\n",
       "      <td>84.6874</td>\n",
       "      <td>408.3166</td>\n",
       "    </tr>\n",
       "    <tr>\n",
       "      <th>19019</th>\n",
       "      <td>187.1814</td>\n",
       "      <td>53.0014</td>\n",
       "      <td>3.2093</td>\n",
       "      <td>0.2876</td>\n",
       "      <td>0.1539</td>\n",
       "      <td>-167.3125</td>\n",
       "      <td>-168.4558</td>\n",
       "      <td>31.4755</td>\n",
       "      <td>52.7310</td>\n",
       "      <td>272.3174</td>\n",
       "    </tr>\n",
       "  </tbody>\n",
       "</table>\n",
       "<p>19020 rows × 10 columns</p>\n",
       "</div>"
      ],
      "text/plain": [
       "        flength    fwidth   fsize   fconc  fconc1     fasym   fm3long  \\\n",
       "0       28.7967   16.0021  2.6449  0.3918  0.1982   27.7004   22.0110   \n",
       "1       31.6036   11.7235  2.5185  0.5303  0.3773   26.2722   23.8238   \n",
       "2      162.0520  136.0310  4.0612  0.0374  0.0187  116.7410  -64.8580   \n",
       "3       23.8172    9.5728  2.3385  0.6147  0.3922   27.2107   -6.4633   \n",
       "4       75.1362   30.9205  3.1611  0.3168  0.1832   -5.5277   28.5525   \n",
       "...         ...       ...     ...     ...     ...       ...       ...   \n",
       "19015   21.3846   10.9170  2.6161  0.5857  0.3934   15.2618   11.5245   \n",
       "19016   28.9452    6.7020  2.2672  0.5351  0.2784   37.0816   13.1853   \n",
       "19017   75.4455   47.5305  3.4483  0.1417  0.0549   -9.3561   41.0562   \n",
       "19018  120.5135   76.9018  3.9939  0.0944  0.0683    5.8043  -93.5224   \n",
       "19019  187.1814   53.0014  3.2093  0.2876  0.1539 -167.3125 -168.4558   \n",
       "\n",
       "       fm3trans   falpha     fdist  \n",
       "0       -8.2027  40.0920   81.8828  \n",
       "1       -9.9574   6.3609  205.2610  \n",
       "2      -45.2160  76.9600  256.7880  \n",
       "3       -7.1513  10.4490  116.7370  \n",
       "4       21.8393   4.6480  356.4620  \n",
       "...         ...      ...       ...  \n",
       "19015    2.8766   2.4229  106.8258  \n",
       "19016   -2.9632  86.7975  247.4560  \n",
       "19017   -9.4662  30.2987  256.5166  \n",
       "19018  -63.8389  84.6874  408.3166  \n",
       "19019   31.4755  52.7310  272.3174  \n",
       "\n",
       "[19020 rows x 10 columns]"
      ]
     },
     "execution_count": 231,
     "metadata": {},
     "output_type": "execute_result"
    }
   ],
   "source": [
    "df"
   ]
  },
  {
   "cell_type": "code",
   "execution_count": 238,
   "id": "396818f3",
   "metadata": {},
   "outputs": [],
   "source": [
    "x_meaned=sd_z-np.mean(sd_z,axis=0)"
   ]
  },
  {
   "cell_type": "code",
   "execution_count": 239,
   "id": "6e980651",
   "metadata": {},
   "outputs": [
    {
     "data": {
      "text/plain": [
       "(19020, 10)"
      ]
     },
     "execution_count": 239,
     "metadata": {},
     "output_type": "execute_result"
    }
   ],
   "source": [
    "x_meaned.shape"
   ]
  },
  {
   "cell_type": "code",
   "execution_count": null,
   "id": "76aad0d1",
   "metadata": {},
   "outputs": [],
   "source": []
  },
  {
   "cell_type": "code",
   "execution_count": 240,
   "id": "2a04a658",
   "metadata": {},
   "outputs": [],
   "source": [
    "x_red=np.dot(Ur,x_meaned.transpose()).transpose()"
   ]
  },
  {
   "cell_type": "code",
   "execution_count": null,
   "id": "58955492",
   "metadata": {},
   "outputs": [],
   "source": [
    "X_reduced = np.dot(eigenvector_subset.transpose(),X_meaned.transpose()).transpose()\n"
   ]
  },
  {
   "cell_type": "code",
   "execution_count": 241,
   "id": "ec94d281",
   "metadata": {},
   "outputs": [
    {
     "data": {
      "text/plain": [
       "array([[-0.2096884 ,  0.31851365,  0.38646476, ..., -0.54252077,\n",
       "         0.96302844, -0.11993497],\n",
       "       [ 0.83202257, -0.66216762, -0.97861673, ..., -0.40227824,\n",
       "         0.47175744, -0.18988435],\n",
       "       [-1.40457948,  0.12213352,  0.78080694, ...,  1.04540808,\n",
       "        -1.48820668, -4.37992274],\n",
       "       ...,\n",
       "       [-0.87433052,  0.30545757,  1.25761427, ...,  0.26626307,\n",
       "        -0.72423455, -1.49129469],\n",
       "       [-0.51764343,  0.44197095,  1.01724617, ...,  1.13646796,\n",
       "         0.14345173, -2.16932976],\n",
       "       [ 0.35977953,  0.47718312, -0.89942646, ...,  3.02597495,\n",
       "        -1.47375987,  2.37661379]])"
      ]
     },
     "execution_count": 241,
     "metadata": {},
     "output_type": "execute_result"
    }
   ],
   "source": [
    "x_red"
   ]
  }
 ],
 "metadata": {
  "kernelspec": {
   "display_name": "Python 3 (ipykernel)",
   "language": "python",
   "name": "python3"
  },
  "language_info": {
   "codemirror_mode": {
    "name": "ipython",
    "version": 3
   },
   "file_extension": ".py",
   "mimetype": "text/x-python",
   "name": "python",
   "nbconvert_exporter": "python",
   "pygments_lexer": "ipython3",
   "version": "3.10.9"
  }
 },
 "nbformat": 4,
 "nbformat_minor": 5
}
